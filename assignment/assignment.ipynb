{
 "cells": [
  {
   "cell_type": "markdown",
   "id": "13ad028b-72b7-43ed-aa78-96fd4e518040",
   "metadata": {
    "id": "13ad028b-72b7-43ed-aa78-96fd4e518040"
   },
   "source": [
    "# Assignment: Data Wrangling\n",
    "### `! git clone https://github.com/ds4e/wrangling`\n",
    "### Do Q1 and Q2, and either Q3 or Q4, for a total of 3 questions."
   ]
  },
  {
   "cell_type": "markdown",
   "id": "da879ea7-8aac-48a3-b6c2-daea56d2e072",
   "metadata": {
    "id": "da879ea7-8aac-48a3-b6c2-daea56d2e072"
   },
   "source": [
    "**Q1.** This question provides some practice cleaning variables which have common problems.\n",
    "1. Numeric variable: For `./data/airbnb_hw.csv`, clean the `Price` variable as well as you can, and explain the choices you make. How many missing values do you end up with? (Hint: What happens to the formatting when a price goes over 999 dollars, say from 675 to 1,112?)\n",
    "2. Categorical variable: For the Minnesota police use of for data, `./data/mn_police_use_of_force.csv`, clean the `subject_injury` variable, handling the NA's; this gives a value `Yes` when a person was injured by police, and `No` when no injury occurred. What proportion of the values are missing? Is this a concern? Cross-tabulate your cleaned `subject_injury` variable with the `force_type` variable. Are there any patterns regarding when the data are missing? \n",
    "3. Dummy variable: For the pretrial data covered in the lecture, clean the `WhetherDefendantWasReleasedPretrial` variable as well as you can, and, in particular, replace missing values with `np.nan`.\n",
    "4. Missing values, not at random: For the pretrial data covered in the lecture, clean the `ImposedSentenceAllChargeInContactEvent` variable as well as you can, and explain the choices you make. (Hint: Look at the `SentenceTypeAllChargesAtConvictionInContactEvent` variable.)"
   ]
  },
  {
   "cell_type": "markdown",
   "id": "ec58af71-a924-4f34-a797-391f2ab50ffe",
   "metadata": {},
   "source": [
    "### Q1.1"
   ]
  },
  {
   "cell_type": "code",
   "execution_count": 3,
   "id": "075c0436-8104-4cf5-ac98-df1cceef2045",
   "metadata": {},
   "outputs": [
    {
     "name": "stdout",
     "output_type": "stream",
     "text": [
      "Before coercion: \n",
      " count     30478\n",
      "unique      511\n",
      "top         150\n",
      "freq       1481\n",
      "Name: Price, dtype: object \n",
      "\n",
      "After coercion: \n",
      " count    30297.000000\n",
      "mean       153.357032\n",
      "std        108.895698\n",
      "min         10.000000\n",
      "25%         80.000000\n",
      "50%        125.000000\n",
      "75%        192.000000\n",
      "max        999.000000\n",
      "Name: Price, dtype: float64 \n",
      "\n",
      "Total Missings: \n",
      " 181 \n",
      "\n"
     ]
    }
   ],
   "source": [
    "import pandas as pd\n",
    "\n",
    "df = pd.read_csv(\"./data/airbnb_hw.csv\")\n",
    "\n",
    "var = 'Price' # We'll clean the Price variable\n",
    "print('Before coercion: \\n', df[var].describe(),'\\n') # The Price variable is not read by Pandas as a number\n",
    "\n",
    "df['Price'] = pd.to_numeric(df['Price'], errors='coerce') # Coerce the variable to numeric\n",
    "\n",
    "# Create a missing dummy:\n",
    "df['Price_nan'] = df['Price'].isnull() # Equals 1 if missing, 0 if non-null\n",
    "\n",
    "# After coercion:\n",
    "print('After coercion: \\n', df['Price'].describe(),'\\n') # Describe the numeric variable\n",
    "print('Total Missings: \\n', sum(df['Price_nan']),'\\n') # How many missing values are there?"
   ]
  },
  {
   "cell_type": "markdown",
   "id": "32327a39-e148-49b0-9130-fa10411cb706",
   "metadata": {},
   "source": [
    "### Q1.2"
   ]
  },
  {
   "cell_type": "code",
   "execution_count": 6,
   "id": "051d2d49-c2e9-48c0-a8e1-3f1c3e2d8edb",
   "metadata": {},
   "outputs": [
    {
     "name": "stdout",
     "output_type": "stream",
     "text": [
      "[nan 'No' 'Yes'] \n",
      "\n",
      "subject_injury\n",
      "Yes    1631\n",
      "No     1446\n",
      "Name: count, dtype: int64 \n",
      "\n",
      "count     3077\n",
      "unique       2\n",
      "top        Yes\n",
      "freq      1631\n",
      "Name: subject_injury, dtype: object \n",
      "\n",
      "Percent Missing: 76.19342359767892\n",
      "\n",
      "force_type         Baton  Bodily Force  Chemical Irritant  Firearm  \\\n",
      "subject_injury_NA                                                    \n",
      "False                  2          2379                172        2   \n",
      "True                   2          7051               1421        0   \n",
      "\n",
      "force_type         Gun Point Display  Improvised Weapon  Less Lethal  \\\n",
      "subject_injury_NA                                                      \n",
      "False                             77                 74            0   \n",
      "True                              27                 74           87   \n",
      "\n",
      "force_type         Less Lethal Projectile  Maximal Restraint Technique  \\\n",
      "subject_injury_NA                                                        \n",
      "False                                   3                            0   \n",
      "True                                    0                          170   \n",
      "\n",
      "force_type         Police K9 Bite  Taser  \n",
      "subject_injury_NA                         \n",
      "False                          46    322  \n",
      "True                           31    985  \n"
     ]
    }
   ],
   "source": [
    "import numpy as np\n",
    "\n",
    "df2 = pd.read_csv(\"./data/mn_police_use_of_force.csv\")\n",
    "var2 = 'subject_injury'\n",
    "\n",
    "\n",
    "print(df2[var2].unique(), '\\n') # A Categorical Example\n",
    "df2[var2] = df2[var2].replace(' ',np.nan) # Notice the column replacement\n",
    "print(df2[var2].value_counts(), '\\n')\n",
    "\n",
    "print(df2[var2].describe(),'\\n') # Describe the numeric variable\n",
    "df2['subject_injury_NA'] = df2[var2].isnull() # Create a bond missing dummy; long tail\n",
    "print(f'Percent Missing: {(sum(df2['subject_injury_NA']))/len(df2)*100}\\n') # How many missing values are there?\n",
    "print(pd.crosstab(df2['subject_injury_NA'],df2['force_type'])) # Bingo\n",
    "\n",
    "#This is very concerning, as the missing values correspond to more aggressive use of force. For example, there is no data supporting the relationahip between injury and use of firearm\n",
    "\n"
   ]
  },
  {
   "cell_type": "markdown",
   "id": "5e76f3c5-9d41-447e-8b63-db6495a29aa0",
   "metadata": {},
   "source": [
    "### Q1.3"
   ]
  },
  {
   "cell_type": "code",
   "execution_count": 9,
   "id": "dfad468a-b737-4d62-9a8a-178c63cc6c2d",
   "metadata": {},
   "outputs": [
    {
     "name": "stdout",
     "output_type": "stream",
     "text": [
      "[9 0 1] \n",
      "\n",
      "released\n",
      "1    19154\n",
      "0     3801\n",
      "9       31\n",
      "Name: count, dtype: int64 \n",
      "\n"
     ]
    }
   ],
   "source": [
    "df3 = pd.read_parquet('./data/justice_data.parquet')\n",
    "\n",
    "df3 = df3.rename(columns = {'BondAmountAtInitialContact':'bond',\n",
    "                    'Defendant_IndigencyStatus':'is_poor',\n",
    "                    'CaseType_MostSerChargeinContactEvent_regardlessofFinalDisp':'case_type',\n",
    "                    'WhetherDefendantWasReleasedPretrial':'released'}) # Rename variables\n",
    "\n",
    "var3 = 'released'\n",
    "print(df3[var3].unique(), '\\n') # A Categorical Example\n",
    "df3[var3] = df3[var3].replace(' ',np.nan) # Notice the column replacement\n",
    "print(df3[var3].value_counts(), '\\n')\n",
    "\n",
    "#Unsure how to clean this further"
   ]
  },
  {
   "cell_type": "markdown",
   "id": "557c9b2e-02bf-44ff-aef4-2a29220a2c5b",
   "metadata": {},
   "source": [
    "### Q1.4"
   ]
  },
  {
   "cell_type": "code",
   "execution_count": 12,
   "id": "7acd2859-5a2a-446e-9c79-40095dd4c964",
   "metadata": {},
   "outputs": [
    {
     "name": "stdout",
     "output_type": "stream",
     "text": [
      "imposed\n",
      "0                   4953\n",
      "12                  1404\n",
      ".985626283367556    1051\n",
      "6                    809\n",
      "3                    787\n",
      "                    ... \n",
      "49.9712525667351       1\n",
      "57.0349075975359       1\n",
      "79.9260780287474       1\n",
      "42.1642710472279       1\n",
      "1.6570841889117        1\n",
      "Name: count, Length: 483, dtype: int64 \n",
      "\n"
     ]
    }
   ],
   "source": [
    "df4=pd.read_parquet('./data/justice_data.parquet')\n",
    "df4=df4.rename(columns = {'ImposedSentenceAllChargeInContactEvent':'imposed'})\n",
    "var4 = 'imposed'\n",
    "#print(df4[var4].unique(), '\\n') # A Categorical Example\n",
    "df4[var4] = df4[var4].replace(' ',np.nan) # Notice the column replacement\n",
    "print(df4[var4].value_counts(), '\\n')"
   ]
  },
  {
   "cell_type": "markdown",
   "id": "5a60a44e",
   "metadata": {},
   "source": [
    "**Q2.** Go to https://sharkattackfile.net/ and download their dataset on shark attacks.\n",
    "\n",
    "1. Open the shark attack file using Pandas. It is probably not a csv file, so `read_csv` won't work.\n",
    "2. Drop any columns that do not contain data.\n",
    "3. Clean the year variable. Describe the range of values you see. Filter the rows to focus on attacks since 1940. Are attacks increasing, decreasing, or remaining constant over time?\n",
    "4. Clean the Age variable and make a histogram of the ages of the victims.\n",
    "5. What proportion of victims are male?\n",
    "6. Clean the `Type` variable so it only takes three values: Provoked and Unprovoked and Unknown. What proportion of attacks are unprovoked?\n",
    "7. Clean the `Fatal Y/N` variable so it only takes three values: Y, N, and Unknown.\n",
    "8. Are sharks more likely to launch unprovoked attacks on men or women? Is the attack more or less likely to be fatal when the attack is provoked or unprovoked? Is it more or less likely to be fatal when the victim is male or female? How do you feel about sharks?\n",
    "9. What proportion of attacks appear to be by white sharks? (Hint: `str.split()` makes a vector of text values into a list of lists, split by spaces.)"
   ]
  },
  {
   "cell_type": "markdown",
   "id": "4a13a1a2-0260-4a30-b82b-e1857ca983cd",
   "metadata": {},
   "source": [
    "### Q2.1, Q2.2, & Q2.3"
   ]
  },
  {
   "cell_type": "code",
   "execution_count": 16,
   "id": "21d3c45c-713e-4bf0-9353-d48c4406f20b",
   "metadata": {},
   "outputs": [
    {
     "name": "stdout",
     "output_type": "stream",
     "text": [
      "Channels:\n",
      " - anaconda\n",
      " - defaults\n",
      "Platform: osx-arm64\n",
      "Collecting package metadata (repodata.json): done\n",
      "Solving environment: done\n",
      "\n",
      "# All requested packages already installed.\n",
      "\n",
      "\n",
      "Note: you may need to restart the kernel to use updated packages.\n"
     ]
    }
   ],
   "source": [
    "conda install -c anaconda xlrd\n"
   ]
  },
  {
   "cell_type": "code",
   "execution_count": 199,
   "id": "1074516e-31ff-44a7-a22e-a9e2d8a383f7",
   "metadata": {},
   "outputs": [
    {
     "name": "stdout",
     "output_type": "stream",
     "text": [
      "Range of 'Year' column (excluding zero): 5 - 2026\n",
      "Year\n",
      "1940    24\n",
      "1941    27\n",
      "1942    41\n",
      "1943    28\n",
      "1944    31\n",
      "dtype: int64\n"
     ]
    },
    {
     "data": {
      "image/png": "[encoded data removed]",
      "text/plain": [
       "<Figure size 1000x600 with 1 Axes>"
      ]
     },
     "metadata": {},
     "output_type": "display_data"
    }
   ],
   "source": [
    "df_shark = pd.read_excel(\"./data/GSAF5 (1).xls\",engine=\"xlrd\")\n",
    "df_shark = df_shark.dropna(axis=1, how='all')\n",
    "df_shark['Year'] = pd.to_numeric(df_shark['Year'], errors='coerce')\n",
    "df_shark['Year'] = df_shark['Year'].fillna(0).astype(int) # changing year to integer and ignoring if non-value\n",
    "df_shark_non_zero = df_shark[df_shark['Year'] > 0]\n",
    "print(f\"Range of 'Year' column (excluding zero): {df_shark_non_zero['Year'].min()} - {df_shark_non_zero['Year'].max()}\")\n",
    "df_shark_filtered = df_shark[df_shark['Year'] >= 1940]\n",
    "df_shark_filtered.head()\n",
    "\n",
    "\n",
    "import matplotlib.pyplot as plt\n",
    "\n",
    "# Plotting attacks per year\n",
    "attacks_per_year = df_shark_filtered.groupby('Year').size()\n",
    "print(attacks_per_year.head())\n",
    "attacks_per_year.plot(kind='line', figsize=(10, 6))\n",
    "plt.title(\"Shark Attacks per Year (Since 1940)\")\n",
    "plt.xlabel(\"Year\")\n",
    "plt.ylabel(\"Number of Attacks\")\n",
    "plt.grid(True)\n",
    "plt.show()\n",
    "\n",
    "# The number of shark attacks is increasing followed by a sharp decrease"
   ]
  },
  {
   "cell_type": "markdown",
   "id": "bf161978-b7be-48a8-9c35-cda244da6adb",
   "metadata": {},
   "source": [
    "### Q2.4 & Q2.5"
   ]
  },
  {
   "cell_type": "code",
   "execution_count": 202,
   "id": "ff33489a-0f56-4ca8-a982-fc2590bd8ff5",
   "metadata": {},
   "outputs": [
    {
     "name": "stdout",
     "output_type": "stream",
     "text": [
      "Proportion Male: 0.8752533915484173\n"
     ]
    },
    {
     "data": {
      "image/png": "[encoded data removed]",
      "text/plain": [
       "<Figure size 640x480 with 1 Axes>"
      ]
     },
     "metadata": {},
     "output_type": "display_data"
    }
   ],
   "source": [
    "var5='Age'\n",
    "df_shark[var5] = df_shark[var5].replace(' ',np.nan) # Notice the column replacement\n",
    "df_shark[var5] = pd.to_numeric(df_shark[var5], errors='coerce')\n",
    "df_shark[var5].hist(bins=50)\n",
    "\n",
    "proportion_m = df_shark['Sex'].value_counts(normalize=True)['M']\n",
    "print(f'Proportion Male: {proportion_m}')\n"
   ]
  },
  {
   "cell_type": "markdown",
   "id": "e6a1377d-4267-458a-b6a6-3b43560cd677",
   "metadata": {},
   "source": [
    "### Q2.6"
   ]
  },
  {
   "cell_type": "code",
   "execution_count": 205,
   "id": "ef4d227a-481f-4beb-9a4e-e62e6f0468a2",
   "metadata": {},
   "outputs": [
    {
     "name": "stdout",
     "output_type": "stream",
     "text": [
      "Proportion of Unprovoked attacks: 0.7369851258581236\n"
     ]
    },
    {
     "data": {
      "text/html": [
       "<div>\n",
       "<style scoped>\n",
       "    .dataframe tbody tr th:only-of-type {\n",
       "        vertical-align: middle;\n",
       "    }\n",
       "\n",
       "    .dataframe tbody tr th {\n",
       "        vertical-align: top;\n",
       "    }\n",
       "\n",
       "    .dataframe thead th {\n",
       "        text-align: right;\n",
       "    }\n",
       "</style>\n",
       "<table border=\"1\" class=\"dataframe\">\n",
       "  <thead>\n",
       "    <tr style=\"text-align: right;\">\n",
       "      <th></th>\n",
       "      <th>Date</th>\n",
       "      <th>Year</th>\n",
       "      <th>Type</th>\n",
       "      <th>Country</th>\n",
       "      <th>State</th>\n",
       "      <th>Location</th>\n",
       "      <th>Activity</th>\n",
       "      <th>Name</th>\n",
       "      <th>Sex</th>\n",
       "      <th>Age</th>\n",
       "      <th>...</th>\n",
       "      <th>Species</th>\n",
       "      <th>Source</th>\n",
       "      <th>pdf</th>\n",
       "      <th>href formula</th>\n",
       "      <th>href</th>\n",
       "      <th>Case Number</th>\n",
       "      <th>Case Number.1</th>\n",
       "      <th>original order</th>\n",
       "      <th>Unnamed: 21</th>\n",
       "      <th>Unnamed: 22</th>\n",
       "    </tr>\n",
       "  </thead>\n",
       "  <tbody>\n",
       "    <tr>\n",
       "      <th>0</th>\n",
       "      <td>2025-01-23 00:00:00</td>\n",
       "      <td>2025</td>\n",
       "      <td>Unprovoked</td>\n",
       "      <td>Australia</td>\n",
       "      <td>Western Australia</td>\n",
       "      <td>Shipwreck Cove</td>\n",
       "      <td>Bathing</td>\n",
       "      <td>Boy</td>\n",
       "      <td>M</td>\n",
       "      <td>12.0</td>\n",
       "      <td>...</td>\n",
       "      <td>Not stated</td>\n",
       "      <td>Bob Myatt GSAF</td>\n",
       "      <td>NaN</td>\n",
       "      <td>NaN</td>\n",
       "      <td>NaN</td>\n",
       "      <td>NaN</td>\n",
       "      <td>NaN</td>\n",
       "      <td>NaN</td>\n",
       "      <td>NaN</td>\n",
       "      <td>NaN</td>\n",
       "    </tr>\n",
       "    <tr>\n",
       "      <th>1</th>\n",
       "      <td>2025-01-22 00:00:00</td>\n",
       "      <td>2025</td>\n",
       "      <td>Unprovoked</td>\n",
       "      <td>Australia</td>\n",
       "      <td>Western Australia</td>\n",
       "      <td>Cheynes beach</td>\n",
       "      <td>Surfing</td>\n",
       "      <td>Dale Kittow</td>\n",
       "      <td>M</td>\n",
       "      <td>37.0</td>\n",
       "      <td>...</td>\n",
       "      <td>Bronze whaler</td>\n",
       "      <td>Bob Myatt GSAF</td>\n",
       "      <td>NaN</td>\n",
       "      <td>NaN</td>\n",
       "      <td>NaN</td>\n",
       "      <td>NaN</td>\n",
       "      <td>NaN</td>\n",
       "      <td>NaN</td>\n",
       "      <td>NaN</td>\n",
       "      <td>NaN</td>\n",
       "    </tr>\n",
       "    <tr>\n",
       "      <th>2</th>\n",
       "      <td>2025-01-11 00:00:00</td>\n",
       "      <td>2025</td>\n",
       "      <td>Provoked</td>\n",
       "      <td>USA</td>\n",
       "      <td>Hawaii</td>\n",
       "      <td>Off Haleiwa Boat Harbour Oahu</td>\n",
       "      <td>Diving</td>\n",
       "      <td>Male not stated was a dive tour worker</td>\n",
       "      <td>M</td>\n",
       "      <td>23.0</td>\n",
       "      <td>...</td>\n",
       "      <td>Not stated</td>\n",
       "      <td>Kevin McMurray Trackingsharks.com</td>\n",
       "      <td>NaN</td>\n",
       "      <td>NaN</td>\n",
       "      <td>NaN</td>\n",
       "      <td>NaN</td>\n",
       "      <td>NaN</td>\n",
       "      <td>NaN</td>\n",
       "      <td>NaN</td>\n",
       "      <td>NaN</td>\n",
       "    </tr>\n",
       "    <tr>\n",
       "      <th>3</th>\n",
       "      <td>2025-01-02 00:00:00</td>\n",
       "      <td>2025</td>\n",
       "      <td>Unprovoked</td>\n",
       "      <td>New Caledonia</td>\n",
       "      <td>Grande Terre</td>\n",
       "      <td>Islet of Kendek near Koumac</td>\n",
       "      <td>Spearfishing</td>\n",
       "      <td>Robert Cuewapuru</td>\n",
       "      <td>M</td>\n",
       "      <td>40.0</td>\n",
       "      <td>...</td>\n",
       "      <td>Reportedly Tiger or Bull shark</td>\n",
       "      <td>Johannes Marchand Todd Smith</td>\n",
       "      <td>NaN</td>\n",
       "      <td>NaN</td>\n",
       "      <td>NaN</td>\n",
       "      <td>NaN</td>\n",
       "      <td>NaN</td>\n",
       "      <td>NaN</td>\n",
       "      <td>NaN</td>\n",
       "      <td>NaN</td>\n",
       "    </tr>\n",
       "    <tr>\n",
       "      <th>4</th>\n",
       "      <td>2025-01-02 00:00:00</td>\n",
       "      <td>2025</td>\n",
       "      <td>Unprovoked</td>\n",
       "      <td>Australia</td>\n",
       "      <td>South Australia</td>\n",
       "      <td>Granites Beach near Westall Streaky Bay</td>\n",
       "      <td>Surfing</td>\n",
       "      <td>Lance Appleby</td>\n",
       "      <td>M</td>\n",
       "      <td>28.0</td>\n",
       "      <td>...</td>\n",
       "      <td>Great White Shart estimated 4.8m 16 ft</td>\n",
       "      <td>Glen Folkard: Simon De Marchi News.com.au: The...</td>\n",
       "      <td>NaN</td>\n",
       "      <td>NaN</td>\n",
       "      <td>NaN</td>\n",
       "      <td>NaN</td>\n",
       "      <td>NaN</td>\n",
       "      <td>NaN</td>\n",
       "      <td>NaN</td>\n",
       "      <td>NaN</td>\n",
       "    </tr>\n",
       "  </tbody>\n",
       "</table>\n",
       "<p>5 rows × 23 columns</p>\n",
       "</div>"
      ],
      "text/plain": [
       "                  Date  Year        Type        Country              State  \\\n",
       "0  2025-01-23 00:00:00  2025  Unprovoked      Australia  Western Australia   \n",
       "1  2025-01-22 00:00:00  2025  Unprovoked      Australia  Western Australia   \n",
       "2  2025-01-11 00:00:00  2025    Provoked            USA             Hawaii   \n",
       "3  2025-01-02 00:00:00  2025  Unprovoked  New Caledonia       Grande Terre   \n",
       "4  2025-01-02 00:00:00  2025  Unprovoked      Australia    South Australia   \n",
       "\n",
       "                                  Location      Activity  \\\n",
       "0                           Shipwreck Cove       Bathing   \n",
       "1                           Cheynes beach        Surfing   \n",
       "2            Off Haleiwa Boat Harbour Oahu        Diving   \n",
       "3              Islet of Kendek near Koumac  Spearfishing   \n",
       "4  Granites Beach near Westall Streaky Bay       Surfing   \n",
       "\n",
       "                                     Name Sex   Age  ...  \\\n",
       "0                                    Boy    M  12.0  ...   \n",
       "1                             Dale Kittow   M  37.0  ...   \n",
       "2  Male not stated was a dive tour worker   M  23.0  ...   \n",
       "3                        Robert Cuewapuru   M  40.0  ...   \n",
       "4                           Lance Appleby   M  28.0  ...   \n",
       "\n",
       "                                 Species   \\\n",
       "0                              Not stated   \n",
       "1                           Bronze whaler   \n",
       "2                              Not stated   \n",
       "3          Reportedly Tiger or Bull shark   \n",
       "4  Great White Shart estimated 4.8m 16 ft   \n",
       "\n",
       "                                              Source  pdf href formula href  \\\n",
       "0                                     Bob Myatt GSAF  NaN          NaN  NaN   \n",
       "1                                     Bob Myatt GSAF  NaN          NaN  NaN   \n",
       "2                  Kevin McMurray Trackingsharks.com  NaN          NaN  NaN   \n",
       "3                      Johannes Marchand Todd Smith   NaN          NaN  NaN   \n",
       "4  Glen Folkard: Simon De Marchi News.com.au: The...  NaN          NaN  NaN   \n",
       "\n",
       "  Case Number Case Number.1 original order Unnamed: 21 Unnamed: 22  \n",
       "0         NaN           NaN            NaN         NaN         NaN  \n",
       "1         NaN           NaN            NaN         NaN         NaN  \n",
       "2         NaN           NaN            NaN         NaN         NaN  \n",
       "3         NaN           NaN            NaN         NaN         NaN  \n",
       "4         NaN           NaN            NaN         NaN         NaN  \n",
       "\n",
       "[5 rows x 23 columns]"
      ]
     },
     "execution_count": 205,
     "metadata": {},
     "output_type": "execute_result"
    }
   ],
   "source": [
    "df_shark['Type'] = df_shark['Type'].str.strip().str.capitalize()  # Remove leading/trailing spaces and capitalize\n",
    "\n",
    "df_shark['Type'] = df_shark['Type'].replace(['Unkown', 'Unkown Attack', 'Unknown Attack'], 'Unknown')\n",
    "\n",
    "df_shark['Type'] = df_shark['Type'].apply(lambda x: x if x in ['Provoked', 'Unprovoked', 'Unknown'] else 'Unknown') # Ensure only three categories: 'Provoked', 'Unprovoked', and 'Unknown'\n",
    "\n",
    "proportion_unprovoked = df_shark['Type'].value_counts(normalize=True)['Unprovoked']\n",
    "\n",
    "print(f\"Proportion of Unprovoked attacks: {proportion_unprovoked}\")\n",
    "\n",
    "df_shark.head()"
   ]
  },
  {
   "cell_type": "markdown",
   "id": "c76b3737-4141-4989-bc0c-ba1bb96286e1",
   "metadata": {},
   "source": [
    "### Q2.7"
   ]
  },
  {
   "cell_type": "code",
   "execution_count": 208,
   "id": "33e59ffb-68ec-46d1-8b49-1f020158aea6",
   "metadata": {},
   "outputs": [
    {
     "name": "stdout",
     "output_type": "stream",
     "text": [
      "Fatal Y/N\n",
      "N          4881\n",
      "Y          1469\n",
      "Unknown     642\n",
      "Name: count, dtype: int64\n"
     ]
    }
   ],
   "source": [
    "df_shark['Fatal Y/N'] = df_shark['Fatal Y/N'].str.strip().str.upper()  # Remove spaces and convert to uppercase\n",
    "\n",
    "df_shark['Fatal Y/N'] = df_shark['Fatal Y/N'].replace(['Unknown Fatality', 'Fatalities', 'Unknown'], 'Unknown') # Replace any unexpected values with 'Unknown' \n",
    "\n",
    "df_shark['Fatal Y/N'] = df_shark['Fatal Y/N'].apply(lambda x: x if x in ['Y', 'N', 'Unknown'] else 'Unknown')\n",
    "\n",
    "print(df_shark['Fatal Y/N'].value_counts())\n"
   ]
  },
  {
   "cell_type": "markdown",
   "id": "aae98657-39bb-45e3-a22e-9606b6c15309",
   "metadata": {},
   "source": [
    "### Q2.8"
   ]
  },
  {
   "cell_type": "code",
   "execution_count": 211,
   "id": "dcbf2d83-bc41-4fee-a972-50317dc25d18",
   "metadata": {},
   "outputs": [
    {
     "name": "stdout",
     "output_type": "stream",
     "text": [
      " M           NaN\n",
      ".            NaN\n",
      "F            NaN\n",
      "M            NaN\n",
      "M            NaN\n",
      "M x 2        NaN\n",
      "N            NaN\n",
      "Provoked     NaN\n",
      "Unknown      NaN\n",
      "Unprovoked   NaN\n",
      "lli          NaN\n",
      "dtype: float64\n"
     ]
    }
   ],
   "source": [
    "# Cross-tabulation of attack type vs. gender\n",
    "attack_by_gender_and_type = pd.crosstab(df_shark['Type'], df_shark['Sex'])\n",
    "\n",
    "# Calculate the proportion of unprovoked attacks on men and women\n",
    "unprovoked_proportion = attack_by_gender_and_type.loc['Unprovoked'] / attack_by_gender_and_type.sum(axis=1)\n",
    "\n",
    "print(unprovoked_proportion)\n",
    "\n",
    "# I in fact hate sharks they are the most terrifying thing ever.\n"
   ]
  },
  {
   "cell_type": "markdown",
   "id": "6a85f7ef-1202-41f8-af40-6fa651c601bc",
   "metadata": {},
   "source": [
    "### Q2.9"
   ]
  },
  {
   "cell_type": "code",
   "execution_count": 214,
   "id": "8f69936c-d87b-4a9f-b9f6-c55c56be6a28",
   "metadata": {},
   "outputs": [
    {
     "data": {
      "text/html": [
       "<div>\n",
       "<style scoped>\n",
       "    .dataframe tbody tr th:only-of-type {\n",
       "        vertical-align: middle;\n",
       "    }\n",
       "\n",
       "    .dataframe tbody tr th {\n",
       "        vertical-align: top;\n",
       "    }\n",
       "\n",
       "    .dataframe thead th {\n",
       "        text-align: right;\n",
       "    }\n",
       "</style>\n",
       "<table border=\"1\" class=\"dataframe\">\n",
       "  <thead>\n",
       "    <tr style=\"text-align: right;\">\n",
       "      <th></th>\n",
       "      <th>Date</th>\n",
       "      <th>Year</th>\n",
       "      <th>Type</th>\n",
       "      <th>Country</th>\n",
       "      <th>State</th>\n",
       "      <th>Location</th>\n",
       "      <th>Activity</th>\n",
       "      <th>Name</th>\n",
       "      <th>Sex</th>\n",
       "      <th>Age</th>\n",
       "      <th>...</th>\n",
       "      <th>Species</th>\n",
       "      <th>Source</th>\n",
       "      <th>pdf</th>\n",
       "      <th>href formula</th>\n",
       "      <th>href</th>\n",
       "      <th>Case Number</th>\n",
       "      <th>Case Number.1</th>\n",
       "      <th>original order</th>\n",
       "      <th>Unnamed: 21</th>\n",
       "      <th>Unnamed: 22</th>\n",
       "    </tr>\n",
       "  </thead>\n",
       "  <tbody>\n",
       "    <tr>\n",
       "      <th>0</th>\n",
       "      <td>2025-01-23 00:00:00</td>\n",
       "      <td>2025</td>\n",
       "      <td>Unprovoked</td>\n",
       "      <td>Australia</td>\n",
       "      <td>Western Australia</td>\n",
       "      <td>Shipwreck Cove</td>\n",
       "      <td>Bathing</td>\n",
       "      <td>Boy</td>\n",
       "      <td>M</td>\n",
       "      <td>12.0</td>\n",
       "      <td>...</td>\n",
       "      <td>Not stated</td>\n",
       "      <td>Bob Myatt GSAF</td>\n",
       "      <td>NaN</td>\n",
       "      <td>NaN</td>\n",
       "      <td>NaN</td>\n",
       "      <td>NaN</td>\n",
       "      <td>NaN</td>\n",
       "      <td>NaN</td>\n",
       "      <td>NaN</td>\n",
       "      <td>NaN</td>\n",
       "    </tr>\n",
       "    <tr>\n",
       "      <th>1</th>\n",
       "      <td>2025-01-22 00:00:00</td>\n",
       "      <td>2025</td>\n",
       "      <td>Unprovoked</td>\n",
       "      <td>Australia</td>\n",
       "      <td>Western Australia</td>\n",
       "      <td>Cheynes beach</td>\n",
       "      <td>Surfing</td>\n",
       "      <td>Dale Kittow</td>\n",
       "      <td>M</td>\n",
       "      <td>37.0</td>\n",
       "      <td>...</td>\n",
       "      <td>Bronze whaler</td>\n",
       "      <td>Bob Myatt GSAF</td>\n",
       "      <td>NaN</td>\n",
       "      <td>NaN</td>\n",
       "      <td>NaN</td>\n",
       "      <td>NaN</td>\n",
       "      <td>NaN</td>\n",
       "      <td>NaN</td>\n",
       "      <td>NaN</td>\n",
       "      <td>NaN</td>\n",
       "    </tr>\n",
       "    <tr>\n",
       "      <th>2</th>\n",
       "      <td>2025-01-11 00:00:00</td>\n",
       "      <td>2025</td>\n",
       "      <td>Provoked</td>\n",
       "      <td>USA</td>\n",
       "      <td>Hawaii</td>\n",
       "      <td>Off Haleiwa Boat Harbour Oahu</td>\n",
       "      <td>Diving</td>\n",
       "      <td>Male not stated was a dive tour worker</td>\n",
       "      <td>M</td>\n",
       "      <td>23.0</td>\n",
       "      <td>...</td>\n",
       "      <td>Not stated</td>\n",
       "      <td>Kevin McMurray Trackingsharks.com</td>\n",
       "      <td>NaN</td>\n",
       "      <td>NaN</td>\n",
       "      <td>NaN</td>\n",
       "      <td>NaN</td>\n",
       "      <td>NaN</td>\n",
       "      <td>NaN</td>\n",
       "      <td>NaN</td>\n",
       "      <td>NaN</td>\n",
       "    </tr>\n",
       "    <tr>\n",
       "      <th>3</th>\n",
       "      <td>2025-01-02 00:00:00</td>\n",
       "      <td>2025</td>\n",
       "      <td>Unprovoked</td>\n",
       "      <td>New Caledonia</td>\n",
       "      <td>Grande Terre</td>\n",
       "      <td>Islet of Kendek near Koumac</td>\n",
       "      <td>Spearfishing</td>\n",
       "      <td>Robert Cuewapuru</td>\n",
       "      <td>M</td>\n",
       "      <td>40.0</td>\n",
       "      <td>...</td>\n",
       "      <td>Reportedly Tiger or Bull shark</td>\n",
       "      <td>Johannes Marchand Todd Smith</td>\n",
       "      <td>NaN</td>\n",
       "      <td>NaN</td>\n",
       "      <td>NaN</td>\n",
       "      <td>NaN</td>\n",
       "      <td>NaN</td>\n",
       "      <td>NaN</td>\n",
       "      <td>NaN</td>\n",
       "      <td>NaN</td>\n",
       "    </tr>\n",
       "    <tr>\n",
       "      <th>4</th>\n",
       "      <td>2025-01-02 00:00:00</td>\n",
       "      <td>2025</td>\n",
       "      <td>Unprovoked</td>\n",
       "      <td>Australia</td>\n",
       "      <td>South Australia</td>\n",
       "      <td>Granites Beach near Westall Streaky Bay</td>\n",
       "      <td>Surfing</td>\n",
       "      <td>Lance Appleby</td>\n",
       "      <td>M</td>\n",
       "      <td>28.0</td>\n",
       "      <td>...</td>\n",
       "      <td>Great White Shart estimated 4.8m 16 ft</td>\n",
       "      <td>Glen Folkard: Simon De Marchi News.com.au: The...</td>\n",
       "      <td>NaN</td>\n",
       "      <td>NaN</td>\n",
       "      <td>NaN</td>\n",
       "      <td>NaN</td>\n",
       "      <td>NaN</td>\n",
       "      <td>NaN</td>\n",
       "      <td>NaN</td>\n",
       "      <td>NaN</td>\n",
       "    </tr>\n",
       "  </tbody>\n",
       "</table>\n",
       "<p>5 rows × 23 columns</p>\n",
       "</div>"
      ],
      "text/plain": [
       "                  Date  Year        Type        Country              State  \\\n",
       "0  2025-01-23 00:00:00  2025  Unprovoked      Australia  Western Australia   \n",
       "1  2025-01-22 00:00:00  2025  Unprovoked      Australia  Western Australia   \n",
       "2  2025-01-11 00:00:00  2025    Provoked            USA             Hawaii   \n",
       "3  2025-01-02 00:00:00  2025  Unprovoked  New Caledonia       Grande Terre   \n",
       "4  2025-01-02 00:00:00  2025  Unprovoked      Australia    South Australia   \n",
       "\n",
       "                                  Location      Activity  \\\n",
       "0                           Shipwreck Cove       Bathing   \n",
       "1                           Cheynes beach        Surfing   \n",
       "2            Off Haleiwa Boat Harbour Oahu        Diving   \n",
       "3              Islet of Kendek near Koumac  Spearfishing   \n",
       "4  Granites Beach near Westall Streaky Bay       Surfing   \n",
       "\n",
       "                                     Name Sex   Age  ...  \\\n",
       "0                                    Boy    M  12.0  ...   \n",
       "1                             Dale Kittow   M  37.0  ...   \n",
       "2  Male not stated was a dive tour worker   M  23.0  ...   \n",
       "3                        Robert Cuewapuru   M  40.0  ...   \n",
       "4                           Lance Appleby   M  28.0  ...   \n",
       "\n",
       "                                 Species   \\\n",
       "0                              Not stated   \n",
       "1                           Bronze whaler   \n",
       "2                              Not stated   \n",
       "3          Reportedly Tiger or Bull shark   \n",
       "4  Great White Shart estimated 4.8m 16 ft   \n",
       "\n",
       "                                              Source  pdf href formula href  \\\n",
       "0                                     Bob Myatt GSAF  NaN          NaN  NaN   \n",
       "1                                     Bob Myatt GSAF  NaN          NaN  NaN   \n",
       "2                  Kevin McMurray Trackingsharks.com  NaN          NaN  NaN   \n",
       "3                      Johannes Marchand Todd Smith   NaN          NaN  NaN   \n",
       "4  Glen Folkard: Simon De Marchi News.com.au: The...  NaN          NaN  NaN   \n",
       "\n",
       "  Case Number Case Number.1 original order Unnamed: 21 Unnamed: 22  \n",
       "0         NaN           NaN            NaN         NaN         NaN  \n",
       "1         NaN           NaN            NaN         NaN         NaN  \n",
       "2         NaN           NaN            NaN         NaN         NaN  \n",
       "3         NaN           NaN            NaN         NaN         NaN  \n",
       "4         NaN           NaN            NaN         NaN         NaN  \n",
       "\n",
       "[5 rows x 23 columns]"
      ]
     },
     "execution_count": 214,
     "metadata": {},
     "output_type": "execute_result"
    }
   ],
   "source": [
    "df_shark.head()\n"
   ]
  },
  {
   "cell_type": "code",
   "execution_count": 254,
   "id": "6cc3c809-f83e-46d7-8ed9-ad274d07aa91",
   "metadata": {},
   "outputs": [
    {
     "name": "stdout",
     "output_type": "stream",
     "text": [
      "746\n",
      "Proportion: 0.1066933638443936\n"
     ]
    }
   ],
   "source": [
    "# Split the 'Species' column and check if it contains \"white\" or \"White Shark\"\n",
    "df_shark=df_shark.rename(columns = {'Species ':'Species'})\n",
    "\n",
    "count=0\n",
    "for i in df_shark['Species']:\n",
    "    if isinstance(i, str) and 'White' in i:\n",
    "        count+=1\n",
    "    elif isinstance(i, str) and 'white' in i: \n",
    "        count+=1\n",
    "print(count)\n",
    "\n",
    "print(f'Proportion: {count/len(df_shark)}')"
   ]
  },
  {
   "cell_type": "markdown",
   "id": "5735a4d4-8be8-433a-a351-70eb8002e632",
   "metadata": {
    "id": "5735a4d4-8be8-433a-a351-70eb8002e632"
   },
   "source": [
    "**Q3.** Open the \"tidy_data.pdf\" document in the repo, which is a paper called Tidy Data by Hadley Wickham.\n",
    "\n",
    "  1. Read the abstract. What is this paper about?\n",
    "  2. Read the introduction. What is the \"tidy data standard\" intended to accomplish?\n",
    "  3. Read the intro to section 2. What does this sentence mean: \"Like families, tidy datasets are all alike but every messy dataset is messy in its own way.\" What does this sentence mean: \"For a given dataset, it’s usually easy to figure out what are observations and what are variables, but it is surprisingly difficult to precisely define variables and observations in general.\"\n",
    "  4. Read Section 2.2. How does Wickham define values, variables, and observations?\n",
    "  5. How is \"Tidy Data\" defined in section 2.3?\n",
    "  6. Read the intro to Section 3 and Section 3.1. What are the 5 most common problems with messy datasets? Why are the data in Table 4 messy? What is \"melting\" a dataset?\n",
    "  7. Why, specifically, is table 11 messy but table 12 tidy and \"molten\"?\n",
    "  8. Read Section 6. What is the \"chicken-and-egg\" problem with focusing on tidy data? What does Wickham hope happens in the future with further work on the subject of data wrangling?"
   ]
  },
  {
   "cell_type": "code",
   "execution_count": 5,
   "id": "07304fe6-101b-436a-a5bf-346901e79b16",
   "metadata": {},
   "outputs": [],
   "source": [
    "# 1. The paper focuses on tidy data, a structured approach to organizing datasets to make data cleaning, manipulation, and analysis easier. It defines a specific structure for tidy data, where each variable is a column, each observation is a row, and each type of observational unit is a table. The paper also introduces tools for tidying messy datasets and discusses how a consistent data structure simplifies data analysis.\n",
    "# 2. The tidy data standard is designed to make data cleaning and analysis easier by providing a consistent way to structure data. It helps analysts avoid repetitive data reformatting when moving between tools, thus allowing them to focus on actual analysis rather than logistics. The standard also facilitates the development of tools that input and output tidy datasets, improving workflow efficiency.\n",
    "# 3. \"Like families, tidy datasets are all alike but every messy dataset is messy in its own way.\"\n",
    "#This is a reference to Tolstoy’s quote about families. It means that tidy datasets follow a consistent and predictable structure, making them easier to work with. In contrast, messy datasets can be disorganized in countless ways, requiring different approaches to clean and structure them.\n",
    "#\"For a given dataset, it’s usually easy to figure out what are observations and what are variables, but it is surprisingly difficult to precisely define variables and observations in general.\"\n",
    "#This means that while it's often intuitive to identify variables and observations in a specific dataset, there isn't a universal rule that applies to all datasets. The distinction can be context-dependent. For example, height and weight might clearly be variables in one dataset, but in another case, they might be different values of a more abstract measurement.\n",
    "# 4. Values: Individual data points, either numbers (quantitative) or strings (qualitative).\n",
    "# Variables: Collections of values that measure the same characteristic across different units (e.g., height, temperature).\n",
    "# Observations: Collections of values that belong to the same unit of analysis (e.g., all measurements taken on a single person or at a specific time).\n",
    "# 5. A dataset is tidy if:\n",
    "#Each variable forms a column.\n",
    "#Each observation forms a row.\n",
    "#Each type of observational unit forms a table.\n",
    "#This format ensures that datasets are structured consistently, making analysis easier.\n",
    "# 6. Column headers are values, not variable names.\n",
    "#Multiple variables are stored in one column.\n",
    "#Variables are stored in both rows and columns.\n",
    "#Multiple types of observational units are stored in the same table.\n",
    "#A single observational unit is spread across multiple tables.\n",
    "#Why are the data in Table 4 messy?\n",
    "#Table 4 is messy because it uses column headers as values instead of variable names. Specifically, income levels are used as column names rather than as values in a properly structured variable column.\n",
    "#What is \"melting\" a dataset?\n",
    "#Melting is the process of transforming a wide-format dataset (where values are spread across multiple columns) into a long-format dataset. This means turning column headers into values of a new variable, making the dataset easier to analyze.\n",
    "# 7. Table 11 is messy because it stores different variables (days of the month) across columns and another variable (temperature type) in rows. The structure makes it difficult to analyze data efficiently.\n",
    "#Table 12 is tidy because it restructures the dataset so that each row represents a single observation (a day's temperature), with separate columns for each variable. This makes it easier to manipulate and analyze.\n",
    "#Table 12 is \"molten\" because the previous columns (days) have been transformed into a single variable, allowing for a more standardized format.\n",
    "# 8. The usefulness of tidy data depends on the availability of tools that work well with it, and the development of tidy tools depends on the widespread adoption of tidy data. This creates a cycle where progress in one area depends on progress in the other, making it difficult to advance both independently.\n",
    "#What does Wickham hope happens in the future with further work on data wrangling?\n",
    "#Wickham hopes that:\n",
    "#More research will refine the principles of tidy data.\n",
    "#New tools will make it easier to tidy and work with data.\n",
    "#Alternative formulations of tidiness, such as working with high-dimensional arrays, will be explored.\n",
    "#Cognitive science and human-computer interaction research will contribute to better data design and usability.\n",
    "#Let me know if you need any clarifications!"
   ]
  },
  {
   "cell_type": "markdown",
   "id": "649494cd-cfd6-4f80-992a-9994fc19e1d5",
   "metadata": {
    "id": "649494cd-cfd6-4f80-992a-9994fc19e1d5"
   },
   "source": [
    "**Q4.** Many important datasets contain a race variable, typically limited to a handful of values often including Black, White, Asian, Latino, and Indigenous. This question looks at data gathering efforts on this variable by the U.S. Federal \n",
    "government.\n",
    "\n",
    "1. How did the most recent US Census gather data on race?\n",
    "2. Why do we gather these data? What role do these kinds of data play in politics and society? Why does data quality matter?\n",
    "3. Please provide a constructive criticism of how the Census was conducted: What was done well? What do you think was missing? How should future large scale surveys be adjusted to best reflect the diversity of the population? Could some of the Census' good practices be adopted more widely to gather richer and more useful data?\n",
    "4. How did the Census gather data on sex and gender? Please provide a similar constructive criticism of their practices.\n",
    "5. When it comes to cleaning data, what concerns do you have about protected characteristics like sex, gender, sexual identity, or race? What challenges can you imagine arising when there are missing values? What good or bad practices might people adopt, and why?\n",
    "6. Suppose someone invented an algorithm to impute values for protected characteristics like race, gender, sex, or sexuality. What kinds of concerns would you have?"
   ]
  },
  {
   "cell_type": "code",
   "execution_count": null,
   "id": "e01aae5f-f783-43c1-959f-fcd28e2a0ac9",
   "metadata": {},
   "outputs": [],
   "source": []
  }
 ],
 "metadata": {
  "colab": {
   "provenance": []
  },
  "kernelspec": {
   "display_name": "Python 3 (ipykernel)",
   "language": "python",
   "name": "python3"
  },
  "language_info": {
   "codemirror_mode": {
    "name": "ipython",
    "version": 3
   },
   "file_extension": ".py",
   "mimetype": "text/x-python",
   "name": "python",
   "nbconvert_exporter": "python",
   "pygments_lexer": "ipython3",
   "version": "3.12.4"
  }
 },
 "nbformat": 4,
 "nbformat_minor": 5
}
